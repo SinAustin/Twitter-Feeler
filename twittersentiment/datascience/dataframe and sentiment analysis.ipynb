{
 "cells": [
  {
   "cell_type": "markdown",
   "metadata": {},
   "source": [
    "# Get tweets with Tweepy"
   ]
  },
  {
   "cell_type": "code",
   "execution_count": null,
   "metadata": {},
   "outputs": [],
   "source": [
    "from tweepy import Stream\n",
    "from tweepy import OAuthHandler\n",
    "from tweepy.streaming import StreamListener\n",
    "import json\n",
    "\n",
    "ckey=\"V28SXFNM2Ksnf11kH8S9al4qr\"\n",
    "csecret=\"QvZN0bvtlLrdB6bw5IqlRFsLy1LFqVhKQRsUjxZ3jNENntHFsV\"\n",
    "atoken=\"1081242889609535488-gPf5ADkUvv4DRuNMbuFV83SuSlH2UV\"\n",
    "asecret=\"ZMmmMuoRVXxNuDQDqnevmnWD8xje0q7gXuA1XIhyYFIjz\"\n",
    "\n",
    "class listener(StreamListener):\n",
    "    \"\"\" twitter streaming class s\"\"\"\n",
    "    \n",
    "    output = open('tweets.txt','a')\n",
    "    output.write('tweets, time\\n')\n",
    "    output.close() \n",
    "    \n",
    "    def __init__(self):\n",
    "        super().__init__()\n",
    "        self.counter = 0\n",
    "        self.limit = 1000\n",
    "    \n",
    "    def on_status(self, status):\n",
    "        try:\n",
    "           \n",
    "            time = status.created_at\n",
    "            text = str(status.text)\n",
    "                \n",
    "            if text.startswith('RT'):\n",
    "                text = text.split('RT')[1].replace(',','')\n",
    "                print(text)\n",
    "                \n",
    "                line = str(text + ',' + str(time) + '\\n')\n",
    "                output = open('tweets.txt','a')\n",
    "                output.write(line)\n",
    "                output.close()     \n",
    "            else:\n",
    "                text = text.split('RT')[0].replace(',','')\n",
    "                print(text)\n",
    "                \n",
    "                line = str(text + ',' + str(time) + '\\n')\n",
    "                output = open('tweets.txt','a')\n",
    "                output.write(line)\n",
    "                output.close()\n",
    "\n",
    "            self.counter += 1\n",
    "            print(self.counter)\n",
    "            \n",
    "            if self.counter < self.limit:\n",
    "                return True\n",
    "            else:\n",
    "                twitterStream.disconnect()\n",
    "        except BaseException as e:\n",
    "            print('failed on_status,',str(e))\n",
    "            \n",
    "   \n",
    "    \n",
    "    def on_error(self, status):\n",
    "        print(status)\n",
    "\n"
   ]
  },
  {
   "cell_type": "code",
   "execution_count": null,
   "metadata": {},
   "outputs": [],
   "source": [
    "query = 'biden'"
   ]
  },
  {
   "cell_type": "code",
   "execution_count": null,
   "metadata": {
    "scrolled": true
   },
   "outputs": [],
   "source": [
    "auth = OAuthHandler(ckey, csecret)\n",
    "auth.set_access_token(atoken, asecret)\n",
    "\n",
    "twitterStream = Stream(auth, listener())\n",
    "twitterStream.filter(track=[query])\n"
   ]
  },
  {
   "cell_type": "markdown",
   "metadata": {},
   "source": [
    "## Quick Sentiment Analysis Using NLTK"
   ]
  },
  {
   "cell_type": "code",
   "execution_count": null,
   "metadata": {},
   "outputs": [],
   "source": [
    "import pandas as pd"
   ]
  },
  {
   "cell_type": "code",
   "execution_count": null,
   "metadata": {},
   "outputs": [],
   "source": [
    "# reading in tweet text as a csv\n",
    "df = pd.read_csv('./tweets.txt')"
   ]
  },
  {
   "cell_type": "code",
   "execution_count": null,
   "metadata": {},
   "outputs": [],
   "source": [
    "df"
   ]
  },
  {
   "cell_type": "code",
   "execution_count": null,
   "metadata": {},
   "outputs": [],
   "source": [
    "#NLTK basic analyzer\n",
    "from nltk.sentiment.vader import SentimentIntensityAnalyzer\n",
    "analyzer = SentimentIntensityAnalyzer()"
   ]
  },
  {
   "cell_type": "code",
   "execution_count": null,
   "metadata": {},
   "outputs": [],
   "source": [
    "positive_count = 0\n",
    "negative_count = 0\n",
    "positives = []\n",
    "negatives = []\n",
    "\n",
    "for tweet in df.tweet:\n",
    "    if analyzer.polarity_scores(tweet)['compound'] >= -.1:\n",
    "        sentiment_value = 'pos'\n",
    "        positive_count+=1\n",
    "    else: \n",
    "        sentiment_value ='neg'\n",
    "        negative_count+=1\n",
    "        \n",
    "    positives.append(positive_count)\n",
    "    negatives.append(negative_count)\n",
    "    \n",
    "    print(tweet, sentiment_value)\n",
    "\n"
   ]
  },
  {
   "cell_type": "code",
   "execution_count": null,
   "metadata": {},
   "outputs": [],
   "source": [
    "import matplotlib.pyplot as plt"
   ]
  },
  {
   "cell_type": "code",
   "execution_count": null,
   "metadata": {
    "scrolled": true
   },
   "outputs": [],
   "source": [
    "plt.plot(positives)\n",
    "plt.plot(negatives)"
   ]
  },
  {
   "cell_type": "code",
   "execution_count": null,
   "metadata": {},
   "outputs": [],
   "source": [
    "negatives"
   ]
  },
  {
   "cell_type": "code",
   "execution_count": null,
   "metadata": {},
   "outputs": [],
   "source": [
    "positives"
   ]
  },
  {
   "cell_type": "code",
   "execution_count": null,
   "metadata": {},
   "outputs": [],
   "source": [
    "import pandas as pd\n",
    "from nltk.sentiment.vader import SentimentIntensityAnalyzer\n",
    "\n",
    "class analyzer():\n",
    "    \"\"\" nltk vader sentiment analzer\"\"\"\n",
    "    def __init__(self):\n",
    "        self.count = 0\n",
    "        \n",
    "    def vader_sentiment(df):    \n",
    "        #inst. analyszer\n",
    "        analyzer = SentimentIntensityAnalyzer()\n",
    "\n",
    "        # pos and neg count and lists\n",
    "        positive_count = 0\n",
    "        negative_count = 0\n",
    "\n",
    "        positives = []\n",
    "        negatives = []\n",
    "        try:\n",
    "            # analyze tweets\n",
    "            for tweet in df.tweet:\n",
    "                if analyzer.polarity_scores(tweet)['compound'] >= .1:\n",
    "                    sentiment_value  = 'pos'\n",
    "                    positive_count += 1\n",
    "                else:\n",
    "                    sentiment_value = 'neg'\n",
    "                    negative_count += 1\n",
    "                positives.append(positive_count)\n",
    "                negatives.append(negative_count)\n",
    "        except:\n",
    "            raise Exception('Vader Sentiment Analysis failed ') \n",
    "            \n",
    "        return positive_count, negative_count, positives, negatives"
   ]
  },
  {
   "cell_type": "code",
   "execution_count": null,
   "metadata": {},
   "outputs": [],
   "source": [
    "pc, nc, ps, ns = analyzer.vader_sentiment(df=df)"
   ]
  },
  {
   "cell_type": "code",
   "execution_count": null,
   "metadata": {},
   "outputs": [],
   "source": [
    "plt.plot(ps)\n",
    "plt.plot(ns)"
   ]
  },
  {
   "cell_type": "code",
   "execution_count": null,
   "metadata": {},
   "outputs": [],
   "source": [
    "print([_ for _ in range(1,10)])"
   ]
  },
  {
   "cell_type": "markdown",
   "metadata": {},
   "source": [
    "# sentiment analysis\n"
   ]
  },
  {
   "cell_type": "code",
   "execution_count": null,
   "metadata": {},
   "outputs": [],
   "source": [
    "import pandas as pd\n",
    "import numpy as np\n",
    "import nltk\n",
    "from nltk.corpus import stopwords\n",
    "from textblob import Word, TextBlob"
   ]
  },
  {
   "cell_type": "code",
   "execution_count": null,
   "metadata": {},
   "outputs": [],
   "source": [
    "#nltk.download('stopwords')\n",
    "#nltk.download('wordnet')\n",
    "stopwords = stopwords.words('english')\n",
    "custom_stopwords = ['RT','0','1','2','3','4','5','6','7','8','9']"
   ]
  },
  {
   "cell_type": "code",
   "execution_count": null,
   "metadata": {},
   "outputs": [],
   "source": [
    "import re\n",
    "from nltk.stem import WordNetLemmatizer \n",
    "  \n",
    "lemmatizer = WordNetLemmatizer() "
   ]
  },
  {
   "cell_type": "code",
   "execution_count": null,
   "metadata": {},
   "outputs": [],
   "source": [
    "def preprocess_tweets(tweet):\n",
    "    custom_stopwords= ['RT']\n",
    "    p_tweet = tweet\n",
    "    p_tweet = re.sub(r'[^\\w]', ' ', tweet)\n",
    "    p_tweet = ' '.join(word for word in p_tweet.split() if word not in stopwords)\n",
    "    p_tweet = ' '.join(word for word in p_tweet.split() if word not in custom_stopwords)\n",
    "    p_tweet = ' '.join(lemmatizer.lemmatize(word) for word in p_tweet.split())\n",
    "    return p_tweet\n",
    "                            "
   ]
  },
  {
   "cell_type": "code",
   "execution_count": null,
   "metadata": {},
   "outputs": [],
   "source": [
    "p_tweet = ' i love RT my cakes'"
   ]
  },
  {
   "cell_type": "code",
   "execution_count": null,
   "metadata": {},
   "outputs": [],
   "source": [
    "p_tweet = ' '.join(word for word in p_tweet.split() if word not in stopwords)"
   ]
  },
  {
   "cell_type": "code",
   "execution_count": null,
   "metadata": {},
   "outputs": [],
   "source": [
    "tweet = []\n",
    "for i in p_tweet.split():\n",
    "    if i not in stopwords:\n",
    "        i = i+' '\n",
    "        tweet.append(i)\n",
    "        tweet.append(' ')\n",
    "p_tweet = ''.join(tweet)"
   ]
  },
  {
   "cell_type": "code",
   "execution_count": null,
   "metadata": {},
   "outputs": [],
   "source": [
    "p_tweet"
   ]
  },
  {
   "cell_type": "code",
   "execution_count": null,
   "metadata": {},
   "outputs": [],
   "source": [
    "preprocess_tweets('hello RT loves cool')"
   ]
  },
  {
   "cell_type": "code",
   "execution_count": null,
   "metadata": {},
   "outputs": [],
   "source": [
    "df = pd.read_csv('./Dataset/training_data.csv')"
   ]
  },
  {
   "cell_type": "code",
   "execution_count": null,
   "metadata": {},
   "outputs": [],
   "source": [
    "df = df[['tweet_id','text']]"
   ]
  },
  {
   "cell_type": "code",
   "execution_count": null,
   "metadata": {},
   "outputs": [],
   "source": [
    "df.columns = ['tweet_id', 'tweets']"
   ]
  },
  {
   "cell_type": "code",
   "execution_count": null,
   "metadata": {},
   "outputs": [],
   "source": [
    "df['processed_tweets'] = df['tweets'].apply(lambda x: preprocess_tweets(x))"
   ]
  },
  {
   "cell_type": "code",
   "execution_count": null,
   "metadata": {},
   "outputs": [],
   "source": [
    "t = 'RT i love pie and cake'\n",
    "TextBlob(t).sentiment"
   ]
  },
  {
   "cell_type": "code",
   "execution_count": null,
   "metadata": {},
   "outputs": [],
   "source": [
    "df ['sentiment'] = df['processed_tweets'].apply(lambda x: TextBlob(x).sentiment[0])"
   ]
  },
  {
   "cell_type": "code",
   "execution_count": null,
   "metadata": {},
   "outputs": [],
   "source": [
    "df"
   ]
  },
  {
   "cell_type": "code",
   "execution_count": null,
   "metadata": {},
   "outputs": [],
   "source": [
    "len(df[df.sentiment<0])"
   ]
  },
  {
   "cell_type": "code",
   "execution_count": null,
   "metadata": {},
   "outputs": [],
   "source": [
    "import matplotlib.pyplot as plt"
   ]
  },
  {
   "cell_type": "code",
   "execution_count": null,
   "metadata": {
    "scrolled": true
   },
   "outputs": [],
   "source": [
    "plt.plot(df.sentiment[:10].values)"
   ]
  },
  {
   "cell_type": "code",
   "execution_count": null,
   "metadata": {},
   "outputs": [],
   "source": [
    "df"
   ]
  },
  {
   "cell_type": "code",
   "execution_count": null,
   "metadata": {},
   "outputs": [],
   "source": [
    "df.loc[(df.sentiment > 0), 'wave'] = 1\n",
    "df.loc[(df.sentiment < 0), 'wave'] = -1\n",
    "df.loc[(df.sentiment == 0), 'wave'] = 0"
   ]
  },
  {
   "cell_type": "code",
   "execution_count": null,
   "metadata": {},
   "outputs": [],
   "source": [
    "df"
   ]
  },
  {
   "cell_type": "code",
   "execution_count": null,
   "metadata": {
    "scrolled": true
   },
   "outputs": [],
   "source": [
    "plt.plot(df[df.wave!=0].wave[:20])"
   ]
  },
  {
   "cell_type": "code",
   "execution_count": null,
   "metadata": {},
   "outputs": [],
   "source": [
    "df[df.wave!=0].wave"
   ]
  },
  {
   "cell_type": "code",
   "execution_count": null,
   "metadata": {},
   "outputs": [],
   "source": [
    "df.wave.values"
   ]
  },
  {
   "cell_type": "code",
   "execution_count": null,
   "metadata": {},
   "outputs": [],
   "source": [
    "l = [0]\n",
    "for i in df.wave:\n",
    "    temp = i + l[-1]\n",
    "    l.append(temp)\n",
    "    "
   ]
  },
  {
   "cell_type": "code",
   "execution_count": null,
   "metadata": {},
   "outputs": [],
   "source": [
    "l.sort()"
   ]
  },
  {
   "cell_type": "code",
   "execution_count": null,
   "metadata": {},
   "outputs": [],
   "source": [
    "count = sum(map(lambda x : 100>x>1, l))"
   ]
  },
  {
   "cell_type": "code",
   "execution_count": null,
   "metadata": {},
   "outputs": [],
   "source": [
    "df.sentiment"
   ]
  },
  {
   "cell_type": "code",
   "execution_count": null,
   "metadata": {},
   "outputs": [],
   "source": [
    "count10 = sum(map(lambda x : 1>=x>.8, df.sentiment.values))\n",
    "count8 = sum(map(lambda x : .8>=x>.6, df.sentiment.values))\n",
    "count6 = sum(map(lambda x : .6>=x>.4, df.sentiment.values))\n",
    "count4 = sum(map(lambda x : .4>=x>.2, df.sentiment.values))\n",
    "count2 = sum(map(lambda x : .2>=x>0, df.sentiment.values))\n",
    "count0 = sum(map(lambda x : x==0, df.sentiment.values))\n",
    "countsub10 = sum(map(lambda x : (-1)<=x<(-.8), df.sentiment.values))\n",
    "countsub8 = sum(map(lambda x : (-.8)<=x<(-.6), df.sentiment.values))\n",
    "countsub6 = sum(map(lambda x : (-.6)<=x<(-.4), df.sentiment.values))\n",
    "countsub4 = sum(map(lambda x : (-.4)<=x<(-.2), df.sentiment.values))\n",
    "countsub2 = sum(map(lambda x : (-.2)<=x<0, df.sentiment.values))"
   ]
  },
  {
   "cell_type": "code",
   "execution_count": null,
   "metadata": {},
   "outputs": [],
   "source": [
    "hist_counts = [countsub10,\n",
    " countsub8,\n",
    " countsub6,\n",
    " countsub4,\n",
    " countsub2,\n",
    " count0,\n",
    " count2,\n",
    " count4,\n",
    " count6,\n",
    " count8,\n",
    " count10]"
   ]
  },
  {
   "cell_type": "code",
   "execution_count": null,
   "metadata": {},
   "outputs": [],
   "source": [
    "plt.hist(hist_counts)"
   ]
  }
 ],
 "metadata": {
  "kernelspec": {
   "display_name": "Python 3",
   "language": "python",
   "name": "python3"
  },
  "language_info": {
   "codemirror_mode": {
    "name": "ipython",
    "version": 3
   },
   "file_extension": ".py",
   "mimetype": "text/x-python",
   "name": "python",
   "nbconvert_exporter": "python",
   "pygments_lexer": "ipython3",
   "version": "3.7.4"
  }
 },
 "nbformat": 4,
 "nbformat_minor": 2
}
